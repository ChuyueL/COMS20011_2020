{
 "cells": [
  {
   "cell_type": "markdown",
   "metadata": {},
   "source": [
    "# Lab 3: Least Squares Method \n",
    "\n",
    "\n",
    "## Introduction\n",
    "In this lab we will introduce you to the least squares method which is used to reconstruct a line (i.e. find its parameters) from a series of points. \n",
    "\n",
    "This lab also serves as an introduction to the CW1: Unknown Signal, which will require you to extend the least squares method to non-linear applications.\n",
    "\n",
    "As always we'll begin by importing the necessary modules for the lab."
   ]
  },
  {
   "cell_type": "code",
   "execution_count": 1,
   "metadata": {},
   "outputs": [],
   "source": [
    "from __future__ import print_function # to avoid issues between Python 2 and 3 printing\n",
    "\n",
    "import numpy as np\n",
    "from skimage import data, io, color, transform, exposure\n",
    "from scipy import stats\n",
    "import matplotlib.pyplot as plt\n",
    "\n",
    "# show matplotlib figures inline\n",
    "%matplotlib inline"
   ]
  },
  {
   "cell_type": "code",
   "execution_count": 2,
   "metadata": {},
   "outputs": [],
   "source": [
    "# By default we set figures to be 6\"x4\" on a 110 dots per inch (DPI) screen \n",
    "# (adjust DPI if you have a high res screen!)\n",
    "plt.rc('figure', figsize=(6, 4), dpi=110)\n",
    "plt.rc('font', size=10)"
   ]
  },
  {
   "cell_type": "markdown",
   "metadata": {},
   "source": [
    "## 1.  Get some numbers\n",
    "\n",
    "We'll begin by generating a series of points from a given equation with noise applied.\n",
    "\n",
    "Generate a sequence of 10 numbers, using the following equation\n",
    "\n",
    "$$\n",
    "y_i=0.2+0.5x_i+e_i\n",
    "$$\n",
    "\n",
    "where $x_i$ is a *uniformly distributed* random number between 0 and 1 and $e_i$ is a *random* number from $\\mathcal{N}(\\mu = 0, \\sigma^2 = 0.01)$."
   ]
  },
  {
   "cell_type": "code",
   "execution_count": 3,
   "metadata": {},
   "outputs": [
    {
     "name": "stdout",
     "output_type": "stream",
     "text": [
      "0.5264398476763715\n",
      "0.6640352468504681\n",
      "0.2449655692732345\n",
      "0.30281659359139224\n",
      "0.5214071933033163\n",
      "0.2535265570051124\n",
      "0.6037790110816823\n",
      "0.4494406139227726\n",
      "0.5437493708675641\n",
      "0.2481024054426293\n"
     ]
    }
   ],
   "source": [
    "# write your code here\n",
    "def equation():\n",
    "    x = np.random.rand()\n",
    "    y = 0.2 + 0.5 * x + np.random.normal(0, 0.1)\n",
    "    return y, x\n",
    "\n",
    "#xs = []\n",
    "#ys = []\n",
    "xs = np.empty(0)\n",
    "ys = np.empty(0)\n",
    "for i in range(10):\n",
    "    #xs.append(equation()[1])\n",
    "    #ys.append(equation()[0])\n",
    "    xs = np.append(xs, equation()[1])\n",
    "    ys = np.append(ys, equation()[0])\n",
    "    print(equation()[0])"
   ]
  },
  {
   "cell_type": "markdown",
   "metadata": {},
   "source": [
    "Generate a scatter plot of $y_i$ versus $x_i$."
   ]
  },
  {
   "cell_type": "code",
   "execution_count": 4,
   "metadata": {},
   "outputs": [
    {
     "data": {
      "text/plain": [
       "<matplotlib.collections.PathCollection at 0x181d92695b0>"
      ]
     },
     "execution_count": 4,
     "metadata": {},
     "output_type": "execute_result"
    },
    {
     "data": {
      "image/png": "[encoded data removed]",
      "text/plain": [
       "<Figure size 660x440 with 1 Axes>"
      ]
     },
     "metadata": {
      "needs_background": "light"
     },
     "output_type": "display_data"
    }
   ],
   "source": [
    "# write your code here\n",
    "plt.scatter(xs, ys)"
   ]
  },
  {
   "cell_type": "markdown",
   "metadata": {},
   "source": [
    "## 2. Create a general function\n",
    "\n",
    "Change the above code to a function that receives the parameters $a$, $b$ and $n$ for the equation $y_i = a + b x_i + e_i$ and returns $n$ samples as shown in the previous exercise.  \n",
    "\n",
    "Use the code to generate 100 samples from the equation above and visualise them."
   ]
  },
  {
   "cell_type": "code",
   "execution_count": 5,
   "metadata": {},
   "outputs": [
    {
     "data": {
      "text/plain": [
       "<matplotlib.collections.PathCollection at 0x181d92b3d60>"
      ]
     },
     "execution_count": 5,
     "metadata": {},
     "output_type": "execute_result"
    },
    {
     "data": {
      "image/png": "[encoded data removed]",
      "text/plain": [
       "<Figure size 660x440 with 1 Axes>"
      ]
     },
     "metadata": {
      "needs_background": "light"
     },
     "output_type": "display_data"
    }
   ],
   "source": [
    "# write your code here\n",
    "def equation(a, b):\n",
    "    x = np.random.rand()\n",
    "    y = a + b * x + np.random.normal(0, 0.1)\n",
    "    return y, x\n",
    "\n",
    "def generate(a, b, n):\n",
    "    samples = []\n",
    "    for i in range(n):\n",
    "        y, x = equation(a, b)\n",
    "        samples.append([y, x])\n",
    "    return samples\n",
    "\n",
    "samples = generate(0.2, 0.5, 100)\n",
    "#print(samples)\n",
    "ys = [i[0] for i in samples]\n",
    "xs = [i[1] for i in samples]\n",
    "fig, ax = plt.subplots()\n",
    "ax.scatter(xs, ys)"
   ]
  },
  {
   "cell_type": "markdown",
   "metadata": {},
   "source": [
    "## 3. Least squares ##\n",
    "Using the sequences ${y_i}$ and ${x_i}$ from **2**, implement the matrix form of the least squares method to determine estimates of the parameters $a$ and $b$ (which we denote as $a'$ and $b'$) assuming that $y_i=a+bx_i$.\n",
    "\n",
    "**Hints**\n",
    "* The formula for the matrix form of least squares is given by: $A=(X^T.X)^{-1}.X^T.Y$ where $A=[a',b']$.\n",
    "* It is important that you keep track of the dimensions of your matrices, especially $X$. Remember that $X^T \\cdot X$ should give a 2x2 matrix.\n",
    "* Because of the equation being in the form of $y_i=a+bx_i$ the first column of X should be all 1s.\n",
    "* You don't need to use your code for matrix inverse and can instead use the function `np.linalg.inv`."
   ]
  },
  {
   "cell_type": "code",
   "execution_count": 6,
   "metadata": {},
   "outputs": [
    {
     "name": "stdout",
     "output_type": "stream",
     "text": [
      "[0.18908641 0.50243867]\n"
     ]
    }
   ],
   "source": [
    "# write your code here\n",
    "X = np.ones(100)\n",
    "X = np.column_stack((X, xs))\n",
    "Y = np.array(ys)\n",
    "\n",
    "def leastsquares(X, Y):\n",
    "    A = np.linalg.inv(X.T @ X) @ X.T @ Y\n",
    "    return A\n",
    "\n",
    "A = leastsquares(X, Y)\n",
    "print(A)\n",
    "_a = A[0]\n",
    "_b = A[1]"
   ]
  },
  {
   "cell_type": "markdown",
   "metadata": {},
   "source": [
    "### Why aren't the values of a and b the same as in the original equation?"
   ]
  },
  {
   "cell_type": "markdown",
   "metadata": {},
   "source": [
    "## 4. Line fitting and plotting\n",
    "\n",
    "Draw the line defined by the estimated values of $a'$ and $b'$ on top of the scatter plot generated in point **2**."
   ]
  },
  {
   "cell_type": "code",
   "execution_count": 7,
   "metadata": {},
   "outputs": [
    {
     "data": {
      "text/plain": [
       "[<matplotlib.lines.Line2D at 0x181d9342790>]"
      ]
     },
     "execution_count": 7,
     "metadata": {},
     "output_type": "execute_result"
    },
    {
     "data": {
      "image/png": "[encoded data removed]",
      "text/plain": [
       "<Figure size 660x440 with 1 Axes>"
      ]
     },
     "metadata": {
      "needs_background": "light"
     },
     "output_type": "display_data"
    }
   ],
   "source": [
    "# write your code here\n",
    "#print(xs)\n",
    "xs = np.array(xs)\n",
    "#print(xs)\n",
    "ys = np.array(ys)\n",
    "#m, b = np.polyfit(xs, ys, 1)\n",
    "plt.scatter(xs, ys)\n",
    "#plt.plot(xs, m*xs + b, \"-r\")\n",
    "plt.plot(xs, _b*xs + _a, \"-r\")"
   ]
  },
  {
   "cell_type": "markdown",
   "metadata": {},
   "source": [
    "## 5. Outliers\n",
    "\n",
    "Add a few outliers to your data. For example, add the points $\\{(0.5, 5), (0.6, 5), (0.7, 5)\\}$ to the sampled sequences from **2**.\n",
    "\n",
    "Re-estimate the best line that fits the data after the addition of the outliers.\n",
    "\n",
    "Plot the best fit line before and after the outlier data, in a way similar to the figure below (including the colouring and the legend).\n",
    "\n",
    "\n",
    "### Hint\n",
    "* Both `plot` and `scatter` have an optional parameter label which allows you to label each series for the legend.\n",
    "* Both `plot` and `scatter` have an optional parameter c which can be passed a colour, e.g. `c='r'` will set the colour to red.\n",
    "* `ax.legend` will create a legend automatically as long as your series have been labelled.\n",
    "\n",
    "![Line fit](lineFit.jpg)"
   ]
  },
  {
   "cell_type": "code",
   "execution_count": 8,
   "metadata": {},
   "outputs": [
    {
     "data": {
      "image/png": "[encoded data removed]",
      "text/plain": [
       "<Figure size 660x440 with 1 Axes>"
      ]
     },
     "metadata": {
      "needs_background": "light"
     },
     "output_type": "display_data"
    }
   ],
   "source": [
    "# write your code here\n",
    "outliers = np.array([[0.5, 5], [0.6, 5], [0.7, 5]])\n",
    "outliers_x = np.array([i[0] for i in outliers])\n",
    "outliers_y = np.array([i[1] for i in outliers])\n",
    "\n",
    "whole_x = xs\n",
    "whole_y = ys\n",
    "for entry in outliers:\n",
    "    whole_x = np.append(whole_x, entry[0])\n",
    "    \n",
    "    whole_y = np.append(whole_y, entry[1])\n",
    "\n",
    "XWithOutliers = np.column_stack((np.ones(len(whole_x)), whole_x))\n",
    "fig, ax = plt.subplots()\n",
    "ax.scatter(xs, ys, label = \"Data\")\n",
    "ax.scatter(outliers_x, outliers_y, marker = \"x\", c=\"r\", label=\"Outliers\")\n",
    "\n",
    "#m0, b0 = np.polyfit(xs, ys, 1)\n",
    "#m1, b1 = np.polyfit(whole_x, whole_y, 1)\n",
    "#ax.plot(xs, m0*xs + b0, \"-g\", label = \"Best fit\")\n",
    "#ax.plot(whole_x, m1*whole_x + b1, \"-r\", label = \"Best fit with outliers\")\n",
    "\n",
    "AWithOutliers = leastsquares(XWithOutliers, whole_y)\n",
    "_aWithOutliers = AWithOutliers[0]\n",
    "_bWithOutliers = AWithOutliers[1]\n",
    "ax.plot(xs, _b*xs + _a, \"-g\", label = \"Best fit\")\n",
    "ax.plot(whole_x, _bWithOutliers * whole_x + _aWithOutliers, \"-r\", label = \"Best fit with outliers\")\n",
    "ax.legend()\n",
    "plt.show()"
   ]
  },
  {
   "cell_type": "markdown",
   "metadata": {},
   "source": [
    "## 6. Calculating the error\n",
    "\n",
    "We can now calculate the error in the predicted line using sum squared error (which is what least squares regression is minimising).\n",
    "\n",
    "Calculate the error of the best fit line and the best fit line with outliers.\n",
    "\n",
    "**Hint**\n",
    "* The sum squared error formula is $\\sum_i (\\hat{y}_i - y_i)^2$ where $\\hat{y}_i = a + bx_i$."
   ]
  },
  {
   "cell_type": "code",
   "execution_count": 9,
   "metadata": {
    "scrolled": true
   },
   "outputs": [
    {
     "name": "stdout",
     "output_type": "stream",
     "text": [
      "Sum squared error of best fit line: 0.9908419744190886\n",
      "Sum squared error of best fit line with outliers: 2.7792276529728195\n"
     ]
    }
   ],
   "source": [
    "# write your code here\n",
    "bestfit_error = 0\n",
    "withoutlier_error = 0\n",
    "for i, x_i in enumerate(xs):\n",
    "    bestfit = _b*x_i + _a\n",
    "    bestfit_error += (ys[i] - bestfit)**2\n",
    "    with_outlier = _bWithOutliers*x_i + _aWithOutliers\n",
    "    withoutlier_error += (ys[i] - with_outlier)**2\n",
    "\n",
    "print(\"Sum squared error of best fit line:\", bestfit_error)\n",
    "print(\"Sum squared error of best fit line with outliers:\", withoutlier_error)"
   ]
  },
  {
   "cell_type": "markdown",
   "metadata": {},
   "source": [
    "## 7. Moving to a non-linear system\n",
    "\n",
    "So far we have been using the least squares method only to find the line of best fit for linear equations, however it can be extended quite easily to certain non-linear lines.\n",
    "\n",
    "Adapting this method lies in the creation of the $X$ matrix. The matrix we construct has two columns, the first a column of ones and the second a column of x values. Note how each column represents a function applied to x: $x^0$, $x^1$.\n",
    "\n",
    "If we were instead given the function $y = a + be^x$ to apply the least squares method we can just modify how we define $X$: instead of the second column including $x^1$ we can insert $e^x$.\n",
    "\n",
    "Given the set of points below, calculate $a$ and $b$ assuming they fit an exponential curve.\n",
    "### Hint\n",
    "* `np.exp(new_x)` will define the new column to add."
   ]
  },
  {
   "cell_type": "code",
   "execution_count": 14,
   "metadata": {},
   "outputs": [
    {
     "name": "stdout",
     "output_type": "stream",
     "text": [
      "[0.39780844 1.10035113]\n",
      "0.3978084428135349\n",
      "1.10035112551702\n"
     ]
    }
   ],
   "source": [
    "new_x = np.array([-5, -4, -2, -1.5, -0.5, 0.5, 0.75, 1, 1.3, 1.9, 2.1, 2.4, 2.8, 3, 3.2])\n",
    "new_y = np.array([0.407, 0.42, 0.549, 0.645, 1.07, 2.21, 2.73, 3.39, 4.44, 7.75, 9.38, 12.5, 18.5, 22.5, 27.4])\n",
    "\n",
    "# write your code here\n",
    "X = np.column_stack((np.ones(len(new_x)), np.exp(new_x)))\n",
    "\n",
    "A_exp = leastsquares(X, new_y)\n",
    "a_exp = A_exp[0]\n",
    "b_exp = A_exp[1]\n",
    "\n",
    "print(A_exp)\n",
    "print(a_exp)\n",
    "print(b_exp)"
   ]
  },
  {
   "cell_type": "markdown",
   "metadata": {},
   "source": [
    "### Visualising the result\n",
    "We can now visualise the fitted line as a figure as before using `plot`. Due to the non-linear nature of the equation we can use `np.linspace(-5, 3.2, 100)` which returns 100 evenly spaced numbers in the interval between -5 and 3.2. \n",
    "\n",
    "Create a graph plotting both the original points and the fitted line as below:\n",
    "![Exp line fit](exp_line_fit.png)"
   ]
  },
  {
   "cell_type": "code",
   "execution_count": 15,
   "metadata": {},
   "outputs": [
    {
     "name": "stdout",
     "output_type": "stream",
     "text": [
      "0.3978084428135349\n",
      "1.10035112551702\n"
     ]
    },
    {
     "data": {
      "text/plain": [
       "[<matplotlib.lines.Line2D at 0x181dacd0400>]"
      ]
     },
     "execution_count": 15,
     "metadata": {},
     "output_type": "execute_result"
    },
    {
     "data": {
      "image/png": "[encoded data removed]",
      "text/plain": [
       "<Figure size 660x440 with 1 Axes>"
      ]
     },
     "metadata": {
      "needs_background": "light"
     },
     "output_type": "display_data"
    }
   ],
   "source": [
    "# write your code here\n",
    "\n",
    "fig, ax = plt.subplots()\n",
    "ax.scatter(new_x, new_y)\n",
    "\n",
    "print(a_exp)\n",
    "print(b_exp)\n",
    "\n",
    "points = np.linspace(-5, 3.2, 100)\n",
    "ax.plot(points, a_exp + (b_exp * np.exp(points)), \"-r\")"
   ]
  },
  {
   "cell_type": "markdown",
   "metadata": {},
   "source": [
    "### What other types of functions can we extend this to?\n",
    "\n",
    "For example why can't we fit to the function $y=a \\cdot e^{bx}$?"
   ]
  }
 ],
 "metadata": {
  "kernelspec": {
   "display_name": "Python 3",
   "language": "python",
   "name": "python3"
  },
  "language_info": {
   "codemirror_mode": {
    "name": "ipython",
    "version": 3
   },
   "file_extension": ".py",
   "mimetype": "text/x-python",
   "name": "python",
   "nbconvert_exporter": "python",
   "pygments_lexer": "ipython3",
   "version": "3.8.5"
  }
 },
 "nbformat": 4,
 "nbformat_minor": 1
}
